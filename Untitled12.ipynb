{
 "cells": [
  {
   "cell_type": "code",
   "execution_count": 1,
   "metadata": {},
   "outputs": [],
   "source": [
    "import os\n",
    "import gc\n",
    "import pandas as pd\n",
    "import numpy as np\n",
    "import tensorflow as tf\n",
    "from sklearn.preprocessing import LabelEncoder, MinMaxScaler, StandardScaler, Imputer\n",
    "from sklearn.model_selection import train_test_split, KFold, cross_val_score, cross_val_predict\n",
    "from sklearn.metrics import roc_auc_score, roc_curve, precision_recall_curve, confusion_matrix\n",
    "from sklearn.ensemble import RandomForestClassifier\n",
    "import matplotlib.pyplot as plt\n",
    "import seaborn as sns\n",
    "%matplotlib inline"
   ]
  },
  {
   "cell_type": "code",
   "execution_count": 2,
   "metadata": {},
   "outputs": [],
   "source": [
    "df = pd.read_csv('/Users/Samsung/Downloads/project_1/application_train.csv')"
   ]
  },
  {
   "cell_type": "code",
   "execution_count": 3,
   "metadata": {},
   "outputs": [
    {
     "name": "stdout",
     "output_type": "stream",
     "text": [
      "301360 train 3076 dev 3075 test\n"
     ]
    }
   ],
   "source": [
    "train_set, test_set = train_test_split(df, test_size=0.02, random_state=42)\n",
    "test_set, dev_set = train_test_split(test_set, test_size=0.5, random_state=42)\n",
    "\n",
    "print(len(train_set), \"train\", len(dev_set), \"dev\", len(test_set), \"test\")"
   ]
  },
  {
   "cell_type": "code",
   "execution_count": 4,
   "metadata": {},
   "outputs": [],
   "source": [
    "# 트레이닝셋에서 대출 고유번호, 라벨 지우기\n",
    "\n",
    "def seperate(set_set):\n",
    "    \n",
    "    set_set_ow = set_set.drop(\"SK_ID_CURR\", axis=1)\n",
    "    set_set_ow = set_set_ow.drop(\"TARGET\", axis=1)\n",
    "    \n",
    "    set_set_Y = set_set[\"TARGET\"].copy()\n",
    "    set_set_names = set_set[\"SK_ID_CURR\"].copy()\n",
    "\n",
    "    \n",
    "    \n",
    "    return set_set_ow, set_set_Y, set_set_names\n",
    "\n",
    "train_ow, train_Y, train_names = seperate(train_set)\n",
    "dev_ow, dev_Y, dev_names = seperate(dev_set)\n",
    "test_ow, test_Y, test_names = seperate(test_set)"
   ]
  },
  {
   "cell_type": "code",
   "execution_count": 5,
   "metadata": {},
   "outputs": [
    {
     "data": {
      "text/plain": [
       "NAME_CONTRACT_TYPE             2\n",
       "CODE_GENDER                    3\n",
       "FLAG_OWN_CAR                   2\n",
       "FLAG_OWN_REALTY                2\n",
       "NAME_TYPE_SUITE                7\n",
       "NAME_INCOME_TYPE               8\n",
       "NAME_EDUCATION_TYPE            5\n",
       "NAME_FAMILY_STATUS             6\n",
       "NAME_HOUSING_TYPE              6\n",
       "OCCUPATION_TYPE               18\n",
       "WEEKDAY_APPR_PROCESS_START     7\n",
       "ORGANIZATION_TYPE             58\n",
       "FONDKAPREMONT_MODE             4\n",
       "HOUSETYPE_MODE                 3\n",
       "WALLSMATERIAL_MODE             7\n",
       "EMERGENCYSTATE_MODE            2\n",
       "dtype: int64"
      ]
     },
     "execution_count": 5,
     "metadata": {},
     "output_type": "execute_result"
    }
   ],
   "source": [
    "# str열은 ??\n",
    "\n",
    "train_ow.select_dtypes('object').apply(pd.Series.nunique, axis = 0)"
   ]
  },
  {
   "cell_type": "code",
   "execution_count": 6,
   "metadata": {},
   "outputs": [],
   "source": [
    "# num열 누락값 처리\n",
    "\n",
    "def num_pre(set_set_ow):\n",
    "    \n",
    "    imputer = Imputer(strategy=\"median\")\n",
    "    \n",
    "    set_set_num = set_set_ow.drop('NAME_CONTRACT_TYPE', axis=1)\n",
    "    set_set_num = set_set_num.drop('CODE_GENDER', axis=1)\n",
    "    set_set_num = set_set_num.drop('FLAG_OWN_CAR', axis=1)\n",
    "    set_set_num = set_set_num.drop('FLAG_OWN_REALTY', axis=1)\n",
    "    set_set_num = set_set_num.drop('NAME_TYPE_SUITE', axis=1)\n",
    "    set_set_num = set_set_num.drop('NAME_INCOME_TYPE', axis=1)\n",
    "    set_set_num = set_set_num.drop('NAME_EDUCATION_TYPE', axis=1)\n",
    "    set_set_num = set_set_num.drop('NAME_FAMILY_STATUS', axis=1)\n",
    "    set_set_num = set_set_num.drop('NAME_HOUSING_TYPE', axis=1)\n",
    "    set_set_num = set_set_num.drop('OCCUPATION_TYPE', axis=1)\n",
    "    set_set_num = set_set_num.drop('WEEKDAY_APPR_PROCESS_START', axis=1)\n",
    "    set_set_num = set_set_num.drop('ORGANIZATION_TYPE', axis=1)\n",
    "    set_set_num = set_set_num.drop('FONDKAPREMONT_MODE', axis=1)\n",
    "    set_set_num = set_set_num.drop('HOUSETYPE_MODE', axis=1)\n",
    "    set_set_num = set_set_num.drop('WALLSMATERIAL_MODE', axis=1)\n",
    "    set_set_num = set_set_num.drop('EMERGENCYSTATE_MODE', axis=1)\n",
    "    \n",
    "    imputer.fit(set_set_num)\n",
    "    X = imputer.transform(set_set_num)\n",
    "    \n",
    "    set_set_num_pre = pd.DataFrame(X, columns=set_set_num.columns, index = list(set_set_num.index.values))\n",
    "    \n",
    "    return set_set_num_pre\n",
    "\n",
    "train_num_pre = num_pre(train_ow)\n",
    "dev_num_pre = num_pre(dev_ow)\n",
    "test_num_pre = num_pre(test_ow)"
   ]
  },
  {
   "cell_type": "code",
   "execution_count": 7,
   "metadata": {},
   "outputs": [],
   "source": [
    "# cat열 처리하자 # 데이터프레임 여러 열 추출시, 튜플형태로!!\n",
    "\n",
    "def cat_pre(set_set_ow):\n",
    "\n",
    "    set_set_cat = set_set_ow[[\n",
    "        'NAME_CONTRACT_TYPE', 'CODE_GENDER', 'FLAG_OWN_CAR', 'FLAG_OWN_REALTY',\n",
    "        'NAME_TYPE_SUITE', 'NAME_INCOME_TYPE', 'NAME_EDUCATION_TYPE',\n",
    "        'NAME_FAMILY_STATUS', 'NAME_HOUSING_TYPE', 'OCCUPATION_TYPE',\n",
    "        'WEEKDAY_APPR_PROCESS_START', 'ORGANIZATION_TYPE', 'FONDKAPREMONT_MODE',\n",
    "        'HOUSETYPE_MODE', 'WALLSMATERIAL_MODE', 'EMERGENCYSTATE_MODE'\n",
    "    ]]\n",
    "    \n",
    "    set_set_cat_pre = pd.get_dummies(set_set_cat)\n",
    "    \n",
    "    return set_set_cat_pre\n",
    "\n",
    "train_cat_pre = cat_pre(train_ow)\n",
    "dev_cat_pre = cat_pre(dev_ow)\n",
    "test_cat_pre = cat_pre(test_ow)"
   ]
  },
  {
   "cell_type": "code",
   "execution_count": 8,
   "metadata": {},
   "outputs": [
    {
     "name": "stdout",
     "output_type": "stream",
     "text": [
      "(301360, 140, 3076, 132, 3075, 130)\n"
     ]
    }
   ],
   "source": [
    "print(train_cat_pre.shape + dev_cat_pre.shape + test_cat_pre.shape)"
   ]
  },
  {
   "cell_type": "code",
   "execution_count": 9,
   "metadata": {},
   "outputs": [],
   "source": [
    "def set_set_sum(set_set_num_pre, set_set_cat_pre):\n",
    "    # num과 cat 합치기\n",
    "\n",
    "    set_sum = pd.concat([set_set_num_pre, set_set_cat_pre], axis=1)\n",
    "    \n",
    "    return set_sum\n",
    "\n",
    "train_sum = set_set_sum(train_num_pre, train_cat_pre)\n",
    "dev_sum = set_set_sum(dev_num_pre, dev_cat_pre)\n",
    "test_sum = set_set_sum(test_num_pre, test_cat_pre)"
   ]
  },
  {
   "cell_type": "code",
   "execution_count": 10,
   "metadata": {},
   "outputs": [],
   "source": [
    "def scale(set_sum):\n",
    "\n",
    "    scaler = StandardScaler()\n",
    "    scaler.fit(set_sum)\n",
    "    scaled_set = scaler.transform(set_sum)\n",
    "    \n",
    "    return scaled_set\n",
    "\n",
    "train_X = scale(train_sum)\n",
    "dev_X = scale(dev_sum)\n",
    "test_X = scale(test_sum)"
   ]
  },
  {
   "cell_type": "code",
   "execution_count": 11,
   "metadata": {},
   "outputs": [
    {
     "data": {
      "text/plain": [
       "RandomForestClassifier(bootstrap=True, class_weight=None, criterion='gini',\n",
       "            max_depth=None, max_features='auto', max_leaf_nodes=None,\n",
       "            min_impurity_decrease=0.0, min_impurity_split=None,\n",
       "            min_samples_leaf=1, min_samples_split=2,\n",
       "            min_weight_fraction_leaf=0.0, n_estimators=100, n_jobs=-1,\n",
       "            oob_score=False, random_state=2018, verbose=0,\n",
       "            warm_start=False)"
      ]
     },
     "execution_count": 11,
     "metadata": {},
     "output_type": "execute_result"
    }
   ],
   "source": [
    "# 랜덤포레스트 분류기를 사용\n",
    "\n",
    "forest_clf = RandomForestClassifier(\n",
    "    n_estimators = 100, n_jobs = -1, random_state=2018)\n",
    "forest_clf"
   ]
  },
  {
   "cell_type": "code",
   "execution_count": 12,
   "metadata": {},
   "outputs": [],
   "source": [
    "def model(scaled_set, set_set_Y):\n",
    "    \n",
    "    %time forest_set = forest_clf.fit(scaled_set, set_set_Y)\n",
    "    \n",
    "    return forest_set\n",
    "\n",
    "#forest_train = model(train_X, train_Y)\n",
    "#forest_dev = model(dev_X, dev_Y)\n",
    "#forest_test = model(test_X, test_Y)"
   ]
  },
  {
   "cell_type": "code",
   "execution_count": 13,
   "metadata": {},
   "outputs": [
    {
     "name": "stdout",
     "output_type": "stream",
     "text": [
      "Wall time: 1min 52s\n"
     ]
    },
    {
     "ename": "NameError",
     "evalue": "name 'forest_set' is not defined",
     "output_type": "error",
     "traceback": [
      "\u001b[1;31m---------------------------------------------------------------------------\u001b[0m",
      "\u001b[1;31mNameError\u001b[0m                                 Traceback (most recent call last)",
      "\u001b[1;32m<ipython-input-13-811857dcf08b>\u001b[0m in \u001b[0;36m<module>\u001b[1;34m()\u001b[0m\n\u001b[1;32m----> 1\u001b[1;33m \u001b[0mforest_train\u001b[0m \u001b[1;33m=\u001b[0m \u001b[0mmodel\u001b[0m\u001b[1;33m(\u001b[0m\u001b[0mtrain_X\u001b[0m\u001b[1;33m,\u001b[0m \u001b[0mtrain_Y\u001b[0m\u001b[1;33m)\u001b[0m\u001b[1;33m\u001b[0m\u001b[0m\n\u001b[0m",
      "\u001b[1;32m<ipython-input-12-3da02ee06f2b>\u001b[0m in \u001b[0;36mmodel\u001b[1;34m(scaled_set, set_set_Y)\u001b[0m\n\u001b[0;32m      3\u001b[0m     \u001b[0mget_ipython\u001b[0m\u001b[1;33m(\u001b[0m\u001b[1;33m)\u001b[0m\u001b[1;33m.\u001b[0m\u001b[0mrun_line_magic\u001b[0m\u001b[1;33m(\u001b[0m\u001b[1;34m'time'\u001b[0m\u001b[1;33m,\u001b[0m \u001b[1;34m'forest_set = forest_clf.fit(scaled_set, set_set_Y)'\u001b[0m\u001b[1;33m)\u001b[0m\u001b[1;33m\u001b[0m\u001b[0m\n\u001b[0;32m      4\u001b[0m \u001b[1;33m\u001b[0m\u001b[0m\n\u001b[1;32m----> 5\u001b[1;33m     \u001b[1;32mreturn\u001b[0m \u001b[0mforest_set\u001b[0m\u001b[1;33m\u001b[0m\u001b[0m\n\u001b[0m\u001b[0;32m      6\u001b[0m \u001b[1;33m\u001b[0m\u001b[0m\n\u001b[0;32m      7\u001b[0m \u001b[1;31m#forest_train = model(train_X, train_Y)\u001b[0m\u001b[1;33m\u001b[0m\u001b[1;33m\u001b[0m\u001b[0m\n",
      "\u001b[1;31mNameError\u001b[0m: name 'forest_set' is not defined"
     ]
    }
   ],
   "source": [
    "forest_train = model(train_X, train_Y)"
   ]
  },
  {
   "cell_type": "code",
   "execution_count": 1,
   "metadata": {},
   "outputs": [
    {
     "data": {
      "text/plain": [
       "\"\\ndef accuracy(classifier, train_set, train_labels):\\n\\n    k_fold = KFold(n_splits=10, shuffle=True, random_state=0)\\n    \\n    score = cross_val_score(classifier, train_set, train_labels, cv=k_fold, n_jobs=-1, scoring='accuracy')\\n    \\n    return score\\n\\ntrain_score = accuracy(forest_clf, train_X, train_Y)\\ndev_score = accuracy(forest_clf, dev_X, dev_Y)\\n#test_score = accuracy(forest_clf, test_X, test_Y)\\n\\n\""
      ]
     },
     "execution_count": 1,
     "metadata": {},
     "output_type": "execute_result"
    }
   ],
   "source": [
    "\"\"\"\n",
    "def accuracy(classifier, train_set, train_labels):\n",
    "\n",
    "    k_fold = KFold(n_splits=10, shuffle=True, random_state=0)\n",
    "    \n",
    "    score = cross_val_score(classifier, train_set, train_labels, cv=k_fold, n_jobs=-1, scoring='accuracy')\n",
    "    \n",
    "    return score\n",
    "\n",
    "train_score = accuracy(forest_clf, train_X, train_Y)\n",
    "dev_score = accuracy(forest_clf, dev_X, dev_Y)\n",
    "#test_score = accuracy(forest_clf, test_X, test_Y)\n",
    "\n",
    "\"\"\""
   ]
  },
  {
   "cell_type": "code",
   "execution_count": 26,
   "metadata": {},
   "outputs": [
    {
     "ename": "TypeError",
     "evalue": "roc_curve() missing 1 required positional argument: 'set_set_Y'",
     "output_type": "error",
     "traceback": [
      "\u001b[1;31m---------------------------------------------------------------------------\u001b[0m",
      "\u001b[1;31mTypeError\u001b[0m                                 Traceback (most recent call last)",
      "\u001b[1;32m<ipython-input-26-8af8c86b4548>\u001b[0m in \u001b[0;36m<module>\u001b[1;34m()\u001b[0m\n\u001b[0;32m     10\u001b[0m     \u001b[1;32mreturn\u001b[0m \u001b[0mset_set_score\u001b[0m\u001b[1;33m,\u001b[0m \u001b[0mfpr\u001b[0m\u001b[1;33m,\u001b[0m \u001b[0mtpr\u001b[0m\u001b[1;33m,\u001b[0m \u001b[0mthresholds\u001b[0m\u001b[1;33m\u001b[0m\u001b[0m\n\u001b[0;32m     11\u001b[0m \u001b[1;33m\u001b[0m\u001b[0m\n\u001b[1;32m---> 12\u001b[1;33m \u001b[0mtrain_score_forest\u001b[0m\u001b[1;33m,\u001b[0m \u001b[0mfpr_forest\u001b[0m\u001b[1;33m,\u001b[0m \u001b[0mtpr_forest\u001b[0m\u001b[1;33m,\u001b[0m \u001b[0mthresholds_forest\u001b[0m \u001b[1;33m=\u001b[0m \u001b[0mroc_curve_making\u001b[0m\u001b[1;33m(\u001b[0m\u001b[0mforest_clf\u001b[0m\u001b[1;33m,\u001b[0m \u001b[0mtrain_X\u001b[0m\u001b[1;33m,\u001b[0m \u001b[0mtrain_Y\u001b[0m\u001b[1;33m)\u001b[0m\u001b[1;33m\u001b[0m\u001b[0m\n\u001b[0m",
      "\u001b[1;32m<ipython-input-26-8af8c86b4548>\u001b[0m in \u001b[0;36mroc_curve_making\u001b[1;34m(classifier, set_set_X, set_set_Y)\u001b[0m\n\u001b[0;32m      6\u001b[0m     \u001b[0mset_set_Y_probas_clf\u001b[0m \u001b[1;33m=\u001b[0m \u001b[0mcross_val_predict\u001b[0m\u001b[1;33m(\u001b[0m\u001b[0mclassifier\u001b[0m\u001b[1;33m,\u001b[0m \u001b[0mset_set_X\u001b[0m\u001b[1;33m,\u001b[0m \u001b[0mset_set_Y\u001b[0m\u001b[1;33m,\u001b[0m \u001b[0mcv\u001b[0m\u001b[1;33m=\u001b[0m\u001b[0mk_fold\u001b[0m\u001b[1;33m,\u001b[0m \u001b[0mmethod\u001b[0m\u001b[1;33m=\u001b[0m\u001b[1;34m\"predict_proba\"\u001b[0m\u001b[1;33m)\u001b[0m\u001b[1;33m\u001b[0m\u001b[0m\n\u001b[0;32m      7\u001b[0m     \u001b[0mset_set_score\u001b[0m \u001b[1;33m=\u001b[0m \u001b[0mset_set_Y_probas_clf\u001b[0m\u001b[1;33m[\u001b[0m\u001b[1;33m:\u001b[0m\u001b[1;33m,\u001b[0m \u001b[1;36m1\u001b[0m\u001b[1;33m]\u001b[0m\u001b[1;33m\u001b[0m\u001b[0m\n\u001b[1;32m----> 8\u001b[1;33m     \u001b[0mfpr\u001b[0m\u001b[1;33m,\u001b[0m \u001b[0mtpr\u001b[0m\u001b[1;33m,\u001b[0m \u001b[0mthresholds\u001b[0m \u001b[1;33m=\u001b[0m \u001b[0mroc_curve\u001b[0m\u001b[1;33m(\u001b[0m\u001b[0mset_set_Y\u001b[0m\u001b[1;33m,\u001b[0m \u001b[0mset_set_score\u001b[0m\u001b[1;33m)\u001b[0m\u001b[1;33m\u001b[0m\u001b[0m\n\u001b[0m\u001b[0;32m      9\u001b[0m \u001b[1;33m\u001b[0m\u001b[0m\n\u001b[0;32m     10\u001b[0m     \u001b[1;32mreturn\u001b[0m \u001b[0mset_set_score\u001b[0m\u001b[1;33m,\u001b[0m \u001b[0mfpr\u001b[0m\u001b[1;33m,\u001b[0m \u001b[0mtpr\u001b[0m\u001b[1;33m,\u001b[0m \u001b[0mthresholds\u001b[0m\u001b[1;33m\u001b[0m\u001b[0m\n",
      "\u001b[1;31mTypeError\u001b[0m: roc_curve() missing 1 required positional argument: 'set_set_Y'"
     ]
    }
   ],
   "source": [
    "# ROC 곡선\n",
    "\"\"\"\n",
    "def roc_curve_making(classifier, set_set_X, set_set_Y):\n",
    "\n",
    "    k_fold = KFold(n_splits=10, shuffle=True, random_state=0)\n",
    "    set_set_Y_probas_clf = cross_val_predict(classifier, set_set_X, set_set_Y, cv=k_fold, method=\"predict_proba\")\n",
    "    set_set_score = set_set_Y_probas_clf[:, 1]\n",
    "    fpr, tpr, thresholds = roc_curve(set_set_Y, set_set_score)\n",
    "    \n",
    "    return set_set_score, fpr, tpr, thresholds\n",
    "\n",
    "train_score_forest, fpr_forest, tpr_forest, thresholds_forest = roc_curve_making(forest_clf, train_X, train_Y)\n",
    "\"\"\""
   ]
  },
  {
   "cell_type": "code",
   "execution_count": 14,
   "metadata": {},
   "outputs": [],
   "source": [
    "def roc_curve_pre(classifier, set_set_X, set_set_Y):\n",
    "\n",
    "    k_fold = KFold(n_splits=10, shuffle=True, random_state=0)\n",
    "    set_set_Y_probas_clf = cross_val_predict(classifier, set_set_X, set_set_Y, cv=k_fold, method=\"predict_proba\")\n",
    "    set_set_score = set_set_Y_probas_clf[:, 1]\n",
    "    \n",
    "    return set_set_score\n",
    "\n",
    "train_score = roc_curve_pre(forest_clf, train_X, train_Y)"
   ]
  },
  {
   "cell_type": "code",
   "execution_count": 15,
   "metadata": {},
   "outputs": [],
   "source": [
    "fpr_forest, tpr_forest, thresholds_forest = roc_curve(train_Y, train_score)"
   ]
  },
  {
   "cell_type": "code",
   "execution_count": null,
   "metadata": {},
   "outputs": [],
   "source": [
    "\"\"\"\n",
    "k_fold = KFold(n_splits=10, shuffle=True, random_state=0)\n",
    "train_Y_probas_forest = cross_val_predict(forest_clf, train_X, train_Y, cv=k_fold, method=\"predict_proba\")\n",
    "train_score = train_Y_probas_forest[:, 1]\n",
    "\n",
    "fpr, tpr, thresholds = roc_curve(train_Y, train_score)\n",
    "\"\"\""
   ]
  },
  {
   "cell_type": "code",
   "execution_count": 21,
   "metadata": {},
   "outputs": [
    {
     "data": {
      "image/png": "[encoded data removed]",
      "text/plain": [
       "<Figure size 432x288 with 1 Axes>"
      ]
     },
     "metadata": {},
     "output_type": "display_data"
    }
   ],
   "source": [
    "# ROC 그림\n",
    "\n",
    "def plot_roc_curve(fpr, tpr, labels=None):\n",
    "    \n",
    "    plt.plot(fpr, tpr, linewidth=2)\n",
    "    plt.plot([0, 1], [0, 1], 'k--')\n",
    "    plt.axis([0, 1, 0, 1])\n",
    "    plt.xlabel(\"거짓 양성 비율\")\n",
    "    plt.ylabel(\"진짜 양성 비율\")\n",
    "    \n",
    "plot_roc_curve(fpr_forest, tpr_forest)\n",
    "plt.show()"
   ]
  },
  {
   "cell_type": "code",
   "execution_count": 22,
   "metadata": {},
   "outputs": [
    {
     "data": {
      "text/plain": [
       "0.7124673235087752"
      ]
     },
     "execution_count": 22,
     "metadata": {},
     "output_type": "execute_result"
    }
   ],
   "source": [
    "# ROC AUC 점수 계산\n",
    "\n",
    "roc_auc_score(train_Y, train_score)"
   ]
  },
  {
   "cell_type": "code",
   "execution_count": null,
   "metadata": {},
   "outputs": [],
   "source": []
  }
 ],
 "metadata": {
  "kernelspec": {
   "display_name": "Python 3",
   "language": "python",
   "name": "python3"
  },
  "language_info": {
   "codemirror_mode": {
    "name": "ipython",
    "version": 3
   },
   "file_extension": ".py",
   "mimetype": "text/x-python",
   "name": "python",
   "nbconvert_exporter": "python",
   "pygments_lexer": "ipython3",
   "version": "3.5.2"
  }
 },
 "nbformat": 4,
 "nbformat_minor": 2
}
